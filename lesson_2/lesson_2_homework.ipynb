{
  "nbformat": 4,
  "nbformat_minor": 0,
  "metadata": {
    "colab": {
      "name": "lesson_2_homework.ipynb",
      "provenance": []
    },
    "kernelspec": {
      "name": "python3",
      "display_name": "Python 3"
    },
    "language_info": {
      "name": "python"
    }
  },
  "cells": [
    {
      "cell_type": "markdown",
      "source": [
        "#Урок 2. Масштабирование признаков. Регуляризация. Стохастический градиентный спуск."
      ],
      "metadata": {
        "id": "PX9kbFehRK6r"
      }
    },
    {
      "cell_type": "markdown",
      "source": [
        "__1. Сгенерировать датасет при помощи sklearn.datasets.make_regression и обучить линейную модель при помощи градиентного спуска и стохастического градиентного спуска. Построить графики среднеквадратичной ошибки от числа итераций для обоих методов на одном рисунке, сделать выводы о разнице скорости сходимости каждого из методов.__"
      ],
      "metadata": {
        "id": "GD7_KKlCRZnB"
      }
    },
    {
      "cell_type": "code",
      "execution_count": 1,
      "metadata": {
        "id": "z0VXU8K6RHzc"
      },
      "outputs": [],
      "source": [
        "import numpy as np\n",
        "from sklearn import datasets\n",
        "import matplotlib.pyplot as plt\n",
        "\n",
        "%matplotlib inline"
      ]
    },
    {
      "cell_type": "code",
      "source": [
        "# Сгенерируем набор данных\n",
        "data, target, coef = datasets.make_regression(n_samples=10000, n_features = 2, n_informative = 2, n_targets = 1, \n",
        "                                              noise = 5, coef = True, random_state = 2)"
      ],
      "metadata": {
        "id": "Q3eeUSAiTEgg"
      },
      "execution_count": 2,
      "outputs": []
    },
    {
      "cell_type": "markdown",
      "source": [
        "Отмасштабируем получившиеся признаки методом стандартизации."
      ],
      "metadata": {
        "id": "l7NP067wTYhH"
      }
    },
    {
      "cell_type": "code",
      "source": [
        "# Получим средние значения и стандартное отклонение по столбцам\n",
        " \n",
        "means = np.mean(data, axis=0)\n",
        "stds = np.std(data, axis=0)\n",
        " \n",
        "# Вычтем каждое значение признака из среднего и поделим на стандартное отклонение\n",
        "for i in range(data.shape[0]):\n",
        "    for j in range(data.shape[1]):\n",
        "        data[i][j] = (data[i][j] - means[j])/stds[j]"
      ],
      "metadata": {
        "id": "N9mtYkeITZsN"
      },
      "execution_count": 3,
      "outputs": []
    },
    {
      "cell_type": "code",
      "source": [
        "# Реализуем функцию, определяющую среднеквадратичную ошибку\n",
        "def calc_mse(y, y_pred):\n",
        "    err = np.mean((y - y_pred)**2)\n",
        "    return err"
      ],
      "metadata": {
        "id": "gzj5bmB7TrN3"
      },
      "execution_count": 4,
      "outputs": []
    },
    {
      "cell_type": "markdown",
      "source": [
        "Подготовка данных и средств проверки закончена. Далее реализуем градиентный спуск и стохастический градиентный спуск."
      ],
      "metadata": {
        "id": "7PXZQbNrTz-_"
      }
    },
    {
      "cell_type": "code",
      "source": [
        "# Определяем функцию для метода градиентного спуска\n",
        "errors = []\n",
        "\n",
        "\n",
        "def eval_GD(X, y, iterations, alpha=1e-4):\n",
        "    np.random.seed(42)\n",
        "    w = np.random.randn(X.shape[1])\n",
        "    n = X.shape[0]\n",
        "    for i in range(1, iterations + 1):\n",
        "        y_pred = np.dot(X, w)\n",
        "        err = calc_mse(y, y_pred)\n",
        "        errors.append(err)\n",
        "        w -= alpha * (1/n * 2 * np.dot((y_pred - y), X))\n",
        "        if i % (iterations / 10) == 0:\n",
        "            print(i, w, err)\n",
        "    return w, err"
      ],
      "metadata": {
        "id": "a0oKTH05T8Wl"
      },
      "execution_count": 5,
      "outputs": []
    },
    {
      "cell_type": "code",
      "source": [
        "# Определяем функцию для стохастического градиентного спуска\n",
        "errors_2 = []\n",
        "\n",
        "\n",
        "def eval_SGD(X, y, iterations, alpha=1e-4):\n",
        "    np.random.seed(42)\n",
        "    w = np.random.randn(X.shape[1]) # начальное приближение весов\n",
        "    n = X.shape[0] # число наблюдений\n",
        "    for i in range(1, iterations + 1):\n",
        "        err = calc_mse(y, np.dot(X, w))\n",
        "        errors_2.append(err)\n",
        "        # генерируем случайный индекс объекта выборки\n",
        "        ind = np.random.randint(n)\n",
        "        y_pred = np.dot(X[ind], w)\n",
        "        w -= alpha * (2 * np.dot((y_pred - y[ind]), X[ind]))\n",
        "        if i % (iterations / 10) == 0:\n",
        "            print(i, w, err)\n",
        "    return w, err"
      ],
      "metadata": {
        "id": "Euub_qVvWyps"
      },
      "execution_count": 6,
      "outputs": []
    },
    {
      "cell_type": "code",
      "source": [
        "# Метод градиентного спуска\n",
        "%%time\n",
        "\n",
        "eval_GD(data, target, iterations=10000, alpha=1e-3)"
      ],
      "metadata": {
        "colab": {
          "base_uri": "https://localhost:8080/"
        },
        "id": "VNuCR12fb7cj",
        "outputId": "90d7761c-c566-45bf-ae64-e375b6a8c6ba"
      },
      "execution_count": 7,
      "outputs": [
        {
          "output_type": "stream",
          "name": "stdout",
          "text": [
            "1000 [40.94191113  1.57797649] 65.18103200147722\n",
            "2000 [46.40042625  1.66700766] 25.90416194656688\n",
            "3000 [47.13761532  1.6597574 ] 25.188120730844517\n",
            "4000 [47.23724302  1.65617408] 25.17503113977775\n",
            "5000 [47.25071644  1.65533806] 25.174791203392896\n",
            "6000 [47.25253979  1.65517751] 25.17478679341083\n",
            "7000 [47.25278671  1.65514938] 25.174786712140733\n",
            "8000 [47.25282018  1.65514471] 25.17478671063913\n",
            "9000 [47.25282471  1.65514396] 25.17478671061131\n",
            "10000 [47.25282533  1.65514384] 25.174786710610796\n",
            "CPU times: user 1.08 s, sys: 734 ms, total: 1.81 s\n",
            "Wall time: 980 ms\n"
          ]
        },
        {
          "output_type": "execute_result",
          "data": {
            "text/plain": [
              "(array([47.25282533,  1.65514384]), 25.174786710610796)"
            ]
          },
          "metadata": {},
          "execution_count": 7
        }
      ]
    },
    {
      "cell_type": "code",
      "source": [
        "# Cтохастический градиентный спуск\n",
        "%%time\n",
        "\n",
        "eval_SGD(data, target, iterations=10000, alpha=1e-3) "
      ],
      "metadata": {
        "colab": {
          "base_uri": "https://localhost:8080/"
        },
        "id": "YSi5N_q6b8js",
        "outputId": "c1c1fb4e-47f0-41a8-f640-5f61c639064a"
      },
      "execution_count": 8,
      "outputs": [
        {
          "output_type": "stream",
          "name": "stdout",
          "text": [
            "1000 [40.97001033  1.55296709] 64.78811527876307\n",
            "2000 [46.36425399  1.684618  ] 25.958864792596202\n",
            "3000 [47.20644313  1.6710779 ] 25.17687473698663\n",
            "4000 [47.39086778  1.42962262] 25.23847478056046\n",
            "5000 [47.27691503  1.45044681] 25.21739151624164\n",
            "6000 [47.36117783  1.27717602] 25.322957334256124\n",
            "7000 [47.2557607   1.50792036] 25.199681969871396\n",
            "8000 [47.1764214   1.50370203] 25.203741100975325\n",
            "9000 [47.46062683  1.89631229] 25.277342597346493\n",
            "10000 [47.23688979  1.7497035 ] 25.18542337236452\n",
            "CPU times: user 1.07 s, sys: 803 ms, total: 1.87 s\n",
            "Wall time: 994 ms\n"
          ]
        },
        {
          "output_type": "execute_result",
          "data": {
            "text/plain": [
              "(array([47.23688979,  1.7497035 ]), 25.18542337236452)"
            ]
          },
          "metadata": {},
          "execution_count": 8
        }
      ]
    },
    {
      "cell_type": "code",
      "source": [
        "# Визуализируем изменение MSE\n",
        "plt.plot(range(len(errors)), errors, color='g', label=r'$GD$')\n",
        "plt.plot(range(len(errors_2)), errors_2, color='r', label=r'$SGD$')\n",
        "plt.title('MSE')\n",
        "plt.xlabel('Iteration number')\n",
        "plt.ylabel('MSE')\n",
        "plt.legend()"
      ],
      "metadata": {
        "colab": {
          "base_uri": "https://localhost:8080/",
          "height": 314
        },
        "id": "4XUr4IkGe0Hx",
        "outputId": "473c2d55-0a4f-4c1a-a6fd-e398f289d6f2"
      },
      "execution_count": 9,
      "outputs": [
        {
          "output_type": "execute_result",
          "data": {
            "text/plain": [
              "<matplotlib.legend.Legend at 0x7ffa604c9050>"
            ]
          },
          "metadata": {},
          "execution_count": 9
        },
        {
          "output_type": "display_data",
          "data": {
            "image/png": "[encoded data removed]",
            "text/plain": [
              "<Figure size 432x288 with 1 Axes>"
            ]
          },
          "metadata": {
            "needs_background": "light"
          }
        }
      ]
    },
    {
      "cell_type": "markdown",
      "source": [
        "Графики сходимости обоих алгоритмов совпадают, соответственно скорость сходимости обоих методов одинакова."
      ],
      "metadata": {
        "id": "LUog2eNk5kAu"
      }
    }
  ]
}